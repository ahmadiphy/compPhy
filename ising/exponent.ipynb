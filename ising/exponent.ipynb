{
 "cells": [
  {
   "cell_type": "code",
   "execution_count": 1,
   "metadata": {},
   "outputs": [],
   "source": [
    "%matplotlib inline\n",
    "import numpy as np\n",
    "import ising\n",
    "import matplotlib.pyplot as plt"
   ]
  },
  {
   "cell_type": "code",
   "execution_count": null,
   "metadata": {},
   "outputs": [],
   "source": [
    "N, NP       = 64, 100\n",
    "eqSteps, mcSteps = 8000, 1000\n",
    "\n",
    "\n",
    "#Temperature \n",
    "tm = 2.269;    T=np.random.normal(tm, 1, NP)\n",
    "Temperature  = T[(T>1.2) & (T<3.8)];    NP = np.size(Temperature)\n",
    "Energy        = np.zeros((NP), dtype=np.float64)\n",
    "Magnetization = np.zeros((NP), dtype=np.float64)\n",
    "SpecificHeat  = np.zeros((NP), dtype=np.float64)\n",
    "Suseptibility = np.zeros((NP), dtype=np.float64)\n",
    "Spin          = np.zeros((N+2,N+2), dtype=np.int32  )\n",
    "\n",
    "Beta = 1.0/Temperature   # set k_B = 1\n",
    "\n",
    "\n",
    "#instantiate the class Ising model\n",
    "Ising = ising.Ising(N, NP, eqSteps, mcSteps)\n",
    "\n",
    "Ising.twoD(Spin, Energy, Magnetization, SpecificHeat, Suseptibility, Beta)"
   ]
  },
  {
   "cell_type": "code",
   "execution_count": null,
   "metadata": {},
   "outputs": [],
   "source": [
    "plt.plot(Temperature, abs(Magnetization), \"o\")"
   ]
  },
  {
   "cell_type": "markdown",
   "metadata": {},
   "source": [
    "## Exponent"
   ]
  },
  {
   "cell_type": "code",
   "execution_count": null,
   "metadata": {},
   "outputs": [],
   "source": [
    "N, NP       = 10, 10\n",
    "eqSteps, mcSteps = 6000, 8000\n",
    "\n",
    "\n",
    "Temperature   = np.zeros((NP), dtype=np.float64)\n",
    "Energy        = np.zeros((NP), dtype=np.float64)\n",
    "Magnetization = np.zeros((NP), dtype=np.float64)\n",
    "SpecificHeat  = np.zeros((NP), dtype=np.float64)\n",
    "Suseptibility = np.zeros((NP), dtype=np.float64)\n",
    "Spin          = np.zeros((N+2,N+2), dtype=np.int32  )\n",
    "\n",
    "#Temperature \n",
    "tc=2.2691\n",
    "Temperature = np.linspace(tc+0.1, tc+1.8, NP)\n",
    "Beta = 1.0/Temperature   # set k_B = 1\n",
    "\n",
    "#instantiate the class Ising model\n",
    "Ising = ising.Ising(N, NP, eqSteps, mcSteps)\n",
    "\n",
    "Ising.twoD(Spin, Energy, Magnetization, SpecificHeat, Suseptibility, Beta)"
   ]
  },
  {
   "cell_type": "code",
   "execution_count": null,
   "metadata": {},
   "outputs": [],
   "source": [
    "## plot the susceptibility and exponent\n",
    "eps=1e-19\n",
    "xx=abs(Temperature-tc)+eps\n",
    "yy=abs(Suseptibility)+eps\n",
    "\n",
    "\n",
    "coefficients = np.polyfit(np.log(xx), np.log(yy), 1)\n",
    "polynomial = np.poly1d(coefficients)\n",
    "ys = polynomial(np.log(xx))\n",
    "plt.plot(np.log(xx), ys, '-', lw=5,  color=\"#348ABD\", label='best linear fit ')\n",
    "plt.plot(np.log(xx), np.log(yy), '*', color=\"IndianRed\", ms=12, label='Magnetization');\n",
    "\n",
    "\n",
    "print(\"sim =\", abs(coefficients[0]), \"\\t\", \"analytical = 1\")"
   ]
  }
 ],
 "metadata": {
  "kernelspec": {
   "display_name": "Python 3",
   "language": "python",
   "name": "python3"
  },
  "language_info": {
   "codemirror_mode": {
    "name": "ipython",
    "version": 3
   },
   "file_extension": ".py",
   "mimetype": "text/x-python",
   "name": "python",
   "nbconvert_exporter": "python",
   "pygments_lexer": "ipython3",
   "version": "3.7.3"
  }
 },
 "nbformat": 4,
 "nbformat_minor": 2
}
