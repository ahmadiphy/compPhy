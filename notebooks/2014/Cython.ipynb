{
 "cells": [
  {
   "cell_type": "markdown",
   "metadata": {},
   "source": [
    "# [Blog home](http://rajeshrinet.github.io/blog)\n",
    "$$\n",
    "$$"
   ]
  },
  {
   "cell_type": "markdown",
   "metadata": {},
   "source": [
    "## Python \n",
    "\n",
    "* High level language \n",
    "* Free and open source\n",
    "* Interactive environment\n",
    "* has a big scientific community using it...\n",
    "* Python is object-oriented\n",
    "* Python is interpreted\n",
    "* There are modules for almost anything in [scientific computation](http://www.scipy.org/)\n",
    "\n",
    "#### Problems\n",
    "\n",
    "\n",
    "* Python is interpreted\n",
    "* Dictionary lookups\n",
    "* function calling overheads\n",
    "* **[GIL](https://en.wikipedia.org/wiki/Global_Interpreter_Lock)** - global interpreter lock"
   ]
  },
  {
   "cell_type": "markdown",
   "metadata": {},
   "source": [
    "## Cython\n",
    "Cython is an attempt to make a superset of python which has the high level coolness of python along with the speed of C. This is achieved because \n",
    "\n",
    "* Cython is compiled\n",
    "* Cython has cdef variables, attributes, functions\n",
    "* Cython supports parallelism (openMP) by opening GIL. \n",
    "\n",
    "Cython is thus a python like language which can be used to do the heavy-liftings in the code. From the cython '.pyx' file a highly optimised C code is generated internally. Cython, as we will see, has support for numpy. Almost all the python codes can be taken to cython. Moreover, with a little work it can be made order of magnitude faster!\n",
    "\n",
    "Below are the steps involves in building a cython code\n",
    "\n",
    "* A .pyx file is compiled by cython to .c \n",
    "* The .c file is then compiled by the C compiler.\n",
    "* One needs to build the cython file  using setup.py. More [here](http://docs.cython.org/src/quickstart/build.html).\n",
    "\n",
    "\n"
   ]
  },
  {
   "cell_type": "markdown",
   "metadata": {},
   "source": [
    "### Multiplication of two one dimensional arrays in python, Cython and C"
   ]
  },
  {
   "cell_type": "code",
   "execution_count": 1,
   "metadata": {},
   "outputs": [],
   "source": [
    "import numpy as np\n",
    "N = 6000    # size of the array\n",
    "p = 1000    # number of iterations \n",
    "\n",
    "A = np.linspace(-10,10, N)\n",
    "B = np.linspace(-10,10, N)\n",
    "C = np.zeros( np.size(A))"
   ]
  },
  {
   "cell_type": "code",
   "execution_count": 2,
   "metadata": {},
   "outputs": [
    {
     "name": "stdout",
     "output_type": "stream",
     "text": [
      "2.32 s ± 73.9 ms per loop (mean ± std. dev. of 7 runs, 1 loop each)\n"
     ]
    }
   ],
   "source": [
    "%%timeit\n",
    "for j in range(N):\n",
    "    for tn in range(p):\n",
    "        C[j] = A[j]*B[j] "
   ]
  },
  {
   "cell_type": "code",
   "execution_count": 3,
   "metadata": {},
   "outputs": [],
   "source": [
    "%load_ext cython"
   ]
  },
  {
   "cell_type": "code",
   "execution_count": 4,
   "metadata": {},
   "outputs": [],
   "source": [
    "%%cython\n",
    "# Basic cython class for calculating multiplication of two arrays.\n",
    "#     \n",
    "#             : This codes uses OpenMP multithreading\n",
    "#             : also it employs the concept of memory views \n",
    "#\n",
    "\n",
    "\n",
    "import  numpy as np\n",
    "cimport numpy as np\n",
    "cimport cython\n",
    "from libc.math cimport sqrt\n",
    "from cython.parallel import prange\n",
    "\n",
    "DTYPE   = np.float\n",
    "ctypedef np.float_t DTYPE_t\n",
    "\n",
    "@cython.wraparound(False)\n",
    "@cython.boundscheck(False)\n",
    "@cython.cdivision(True)\n",
    "@cython.nonecheck(False)\n",
    "cdef class cythontest:\n",
    "    cdef readonly np.ndarray A, B, C \n",
    "    cdef readonly int N\n",
    "       \n",
    "    def __init__(self, N):\n",
    "        self.N = N\n",
    "        self.C = np.empty(N, dtype=DTYPE)\n",
    "    \n",
    "    \n",
    "    cpdef calcC(self, np.ndarray A, np.ndarray B, int iter):\n",
    "        cdef int N = self.N\n",
    "        cdef double [:] t1   = A \n",
    "        cdef double [:] t2   = B\n",
    "                \n",
    "        cdef double [:] F   = self.C\n",
    "        cdef int i, j \n",
    "       \n",
    "        for i in prange(N, nogil=True):\n",
    "            for j in range(iter):            \n",
    "                F[i] = t1[i] * t2[i]                 \n",
    "        return "
   ]
  },
  {
   "cell_type": "code",
   "execution_count": 5,
   "metadata": {},
   "outputs": [
    {
     "data": {
      "text/plain": [
       "True"
      ]
     },
     "execution_count": 5,
     "metadata": {},
     "output_type": "execute_result"
    }
   ],
   "source": [
    "rm = cythontest(N)\n",
    "rm.calcC(A, B, p)\n",
    "np.allclose(C, rm.C)"
   ]
  },
  {
   "cell_type": "code",
   "execution_count": 6,
   "metadata": {},
   "outputs": [
    {
     "name": "stdout",
     "output_type": "stream",
     "text": [
      "8.76 ms ± 218 µs per loop (mean ± std. dev. of 7 runs, 100 loops each)\n"
     ]
    }
   ],
   "source": [
    "%%timeit\n",
    "rm = cythontest(N)\n",
    "rm.calcC(A, B, p)\n",
    "np.allclose(C, rm.C)"
   ]
  },
  {
   "cell_type": "markdown",
   "metadata": {},
   "source": [
    "Thus it can be seen that merely by writing the code in Cython we see a order of magnitude difference in the speed. Honestly speaking, the code in python has been written terribly to show the speed difference. A vectorised code in python will also be very fast. I leave it for the readers to check! \n",
    "\n",
    "The cython, along with setup etc, can be accessed [here](https://github.com/rajeshrinet/compPhy/tree/master/misc/tests/prangeMemView). Moreover, we wrote the same thing in pure C and, to our amazement, cython is as fast as the C code! \n",
    "\n",
    "The decorators ([compiler directives](https://cython.readthedocs.io/en/latest/src/userguide/source_files_and_compilation.html#how-to-set-directives)) before the class decoration helps in getting more speed up when the respective python checks are not performed. E.g. setting  can enhance the performance of the code considerably.  "
   ]
  },
  {
   "cell_type": "markdown",
   "metadata": {},
   "source": [
    "## C-Cython interface"
   ]
  },
  {
   "cell_type": "markdown",
   "metadata": {},
   "source": [
    "Cython optimizes codes internally, and thus, a bare-bone C cod may be beaten by cython in the best case. In some cases, though, we may need to write some performance critical part of the code in C/C++. Cython comes very handy in this case as well to act as an inerface between python and C. So our code has three layers now. The uppermost layer is in python which is extremely human readable and third layer is C while Cython is the sandwiched layer 2 between them. Numpy arrays can also be passed between the layes, as shown [here](https://github.com/rajeshrinet/compPhy/tree/master/misc/tests/ccyMatMul).\n",
    "\n",
    "The amount of time taken in writing and debugging is very small in python, and it is also very human readable. Also, personally, I believe that writing code in high level language like python is fun - you can import almost anything ([try importing antigravity](http://xkcd.com/353/)) ! \n",
    "\n",
    "One can also wrap C++ classes in Cython. Look [here](http://cython.readthedocs.org/en/latest/src/userguide/wrapping_CPlusPlus.html)."
   ]
  },
  {
   "cell_type": "markdown",
   "metadata": {},
   "source": [
    "#### Conclusions:\n",
    "\n",
    "\n",
    "* [An Optimization Anecdote by BDFL.](https://www.python.org/doc/essays/list2str/)\n",
    "\n",
    "\n",
    "* Premature optimization is the root of all evil: Donald Knuth\n",
    "\n",
    "\n",
    "* Make It Work \n",
    "\n",
    "    *  Make It Right \n",
    "\n",
    "        * Make It Fast -- Kent Back"
   ]
  }
 ],
 "metadata": {
  "kernelspec": {
   "display_name": "Python 3",
   "language": "python",
   "name": "python3"
  },
  "language_info": {
   "codemirror_mode": {
    "name": "ipython",
    "version": 3
   },
   "file_extension": ".py",
   "mimetype": "text/x-python",
   "name": "python",
   "nbconvert_exporter": "python",
   "pygments_lexer": "ipython3",
   "version": "3.7.3"
  }
 },
 "nbformat": 4,
 "nbformat_minor": 1
}
